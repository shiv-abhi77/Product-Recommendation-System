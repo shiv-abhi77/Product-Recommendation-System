{
 "cells": [
  {
   "cell_type": "code",
   "execution_count": 1,
   "metadata": {},
   "outputs": [],
   "source": [
    "import pandas as pd\n",
    "from sklearn.feature_extraction.text import CountVectorizer\n",
    "from sklearn.metrics.pairwise import cosine_similarity\n",
    "from sklearn.preprocessing import normalize\n",
    "import numpy as np"
   ]
  },
  {
   "cell_type": "code",
   "execution_count": 2,
   "metadata": {},
   "outputs": [],
   "source": [
    "def getModel():\n",
    "    user_df = pd.read_csv(\"UserData.csv\", index_col=0)\n",
    "    cv = CountVectorizer(max_features=5000,stop_words='english')\n",
    "\n",
    "    def getSimiliarity(column):\n",
    "        vector = cv.fit_transform(column).toarray()\n",
    "        return cosine_similarity(vector)\n",
    "\n",
    "    def getDistance(column):\n",
    "        col = column/10\n",
    "        n = col.size\n",
    "        res = np.zeros((n, n))\n",
    "        for i in range(n):\n",
    "            for j in range(n):\n",
    "                res[i][j] = (col[i] - col[j]) ** 2\n",
    "        return res\n",
    "\n",
    "    prod_sim = getSimiliarity(user_df.prod_name)\n",
    "    cat_sim = getSimiliarity(user_df.category)\n",
    "    age_dist = getDistance(user_df.Age)\n",
    "    price_dist = getDistance(user_df.avg_price)\n",
    "\n",
    "    #Calculates user similarity\n",
    "    W_PROD = 7\n",
    "    W_CAT = 8\n",
    "    W_AGE = 2\n",
    "    W_PRICE = 5\n",
    "    print(age_dist)\n",
    "    usr_sim = (W_PROD * prod_sim + W_CAT*cat_sim - W_AGE*age_dist - W_PRICE*price_dist) / (W_PROD + W_CAT + W_AGE + W_PRICE)\n",
    "\n",
    "    prod_df = pd.read_csv(\"FlipDatasetProcessed.csv\", index_col=0)\n",
    "    WEIGHT = 0.1\n",
    "    prod_sim = (1 - WEIGHT) * getSimiliarity(prod_df.desc) + WEIGHT * getSimiliarity(prod_df.product_category_tree)\n",
    "    return (usr_sim, prod_sim)"
   ]
  },
  {
   "cell_type": "code",
   "execution_count": 3,
   "metadata": {},
   "outputs": [
    {
     "name": "stdout",
     "output_type": "stream",
     "text": [
      "[[0.   0.04 0.04 ... 0.01 0.04 0.  ]\n",
      " [0.04 0.   0.   ... 0.09 0.   0.04]\n",
      " [0.04 0.   0.   ... 0.09 0.   0.04]\n",
      " ...\n",
      " [0.01 0.09 0.09 ... 0.   0.09 0.01]\n",
      " [0.04 0.   0.   ... 0.09 0.   0.04]\n",
      " [0.   0.04 0.04 ... 0.01 0.04 0.  ]]\n"
     ]
    }
   ],
   "source": [
    "model = getModel()"
   ]
  },
  {
   "cell_type": "code",
   "execution_count": 4,
   "metadata": {},
   "outputs": [
    {
     "name": "stdout",
     "output_type": "stream",
     "text": [
      "User: Name                                                   Saman Bhoyar\n",
      "Gender                                                         Male\n",
      "Age                                                              21\n",
      "Product Name 1                  Oneplus wireless bullets z neckband\n",
      "Product Name 2                                          Smartwatch \n",
      "Product Name 3                                              Mobile \n",
      "Product Name 4                                                Shoes\n",
      "Product Name 5                                               Laptop\n",
      "Email address                                  samanb3012@gmail.com\n",
      "prod_name         Oneplus wireless bullets z neckband Smartwatch...\n",
      "avg_price                                                   20359.8\n",
      "category          Footwear Clothes ElectronicGadgets Mobile Comp...\n",
      "item_index                                                     8866\n",
      "Name: 16/08/2023 00:03:25, dtype: object\n",
      "\n",
      " Amaze Mobile Car Mobile Holder Stand for Xolo A800 2602\n",
      " WorldWearFootwear Running Shoes, Walking Shoes 1426\n",
      " Jazam Gecko Multifuction Mobile Stand 2640\n",
      " BuildTrack PIR Wireless Motion Sensor - One Switch Control Wireless Sensor Security System 29\n",
      " Tech Yug BH-503 bluethooth headset Wireless Bluetooth Headset 2809\n",
      " MAK  Battery - MK BT-Note 1346\n",
      " Chambor Orosa Lipstick 4.5g 3847\n",
      " DEBOCK Xiaomi MI 4Tempered Glass for Xiaomi MI 4773\n",
      " Technix Sticky Yoga Sky Blue 4mm 7626\n",
      " Protector Xiaomi Redmi Note Prime Tempered Glass for Note Prime 4769\n",
      " Samsung Pouch for Samsung Galaxy Note 6420\n",
      " Sitaram SRE101 Digital Watch  - For Couple 2716\n",
      " Rega IT Acer Aspire One 532H-B123F 532H-CBK123G 6Cell Laptop Battery 4312\n",
      " Lapguard Acer Aspire 4741G-5464G50Mn Replacement 6Cell Laptop Battery 4311\n",
      " Samsung CLP K300A Black Toner Cartridge 963\n",
      " Tabu 22Activities English Learner Laptop Toy 7804\n",
      " Kraasa Men's Solid Formal Shirt 7330\n",
      " Pepe Jeans Wayfarer Sunglasses 3825\n",
      " FTCBAZAR Boy's Shirt, Waistcoat and Pant Set 4031\n",
      " Beebay Baby Boy's Solid Casual Shirt 2814\n",
      " Naxa Electronics Naxa Ne-929 Wh Headphones () Headphones 3981\n",
      " Sound Logic Soundlogic Dynabass Foldable Headphones Headphones 3922\n",
      " couponsmall key 343Wired USB Tablet Keyboard 591\n",
      " Iron Crafts Creative Showpiece  -  21cm 708\n",
      " Serebroarts Iron Decorative Platter 244\n"
     ]
    }
   ],
   "source": [
    "import itertools\n",
    "prod_df = pd.read_csv(\"FlipDatasetProcessed.csv\", index_col=0)\n",
    "user_df = pd.read_csv(\"UserData.csv\", index_col=0)\n",
    "\n",
    "def get_recommendation(model, usr_index):\n",
    "    user_df = pd.read_csv(\"UserData.csv\", index_col=0)\n",
    "    prod_df = pd.read_csv(\"FlipDatasetProcessed.csv\", index_col=0)\n",
    "    sim_users = [index for index, _ in sorted(list(enumerate(model[0][usr_index])),reverse=True,key = lambda x: x[1])[:5]]\n",
    "    items = []\n",
    "    gender = user_df.iloc[usr_index]['Gender']\n",
    "    done = {}\n",
    "\n",
    "    def is_ok(idx, gender):\n",
    "        if not prod_df.iloc[idx].show:\n",
    "            return False\n",
    "        if prod_df.iloc[idx].product_name in done:\n",
    "            return False\n",
    "        desc = prod_df['desc'][idx]\n",
    "        male = False\n",
    "        female = False\n",
    "        for word in desc.split(' '):\n",
    "            if word in [\"woman\", \"women\", \"womens\", \"women's\", \"girl\", \"girls\", \"lady\", \"ladies\"]:\n",
    "                female = True\n",
    "            if word in [\"man\", \"men\", \"mens\" \"boy\", \"men's\", \"boys\", \"guy\", \"guys\"]:\n",
    "                male = True\n",
    "        return male or not female if gender == 'Male' else female or not male\n",
    "\n",
    "    for sim_usr_ind in sim_users:\n",
    "        prod_ind = user_df.iloc[sim_usr_ind]['item_index']\n",
    "        lst = sorted(list(enumerate(model[1][prod_ind])),reverse=True,key = lambda x: x[1])\n",
    "        filtered = filter(lambda x: is_ok(x[0], gender), lst)\n",
    "        top10 = itertools.islice(filtered, 5) \n",
    "\n",
    "        for ind, _ in top10:\n",
    "            items.append(ind)\n",
    "            done[prod_df.iloc[ind].product_name] = True\n",
    "    return items\n",
    "        \n",
    "usr_ind = 4 \n",
    "print(f\"User: {user_df.iloc[usr_ind]}\")\n",
    "print()\n",
    "rec = get_recommendation(model, usr_ind)\n",
    "for idx in rec:\n",
    "    print(f'{prod_df.iloc[idx][\"product_name\"]} {idx}')\n"
   ]
  },
  {
   "cell_type": "code",
   "execution_count": 5,
   "metadata": {
    "ExecuteTime": {
     "end_time": "2023-08-19T18:49:36.839729400Z",
     "start_time": "2023-08-19T18:49:17.613978200Z"
    }
   },
   "outputs": [],
   "source": [
    "import pickle as pkl\n",
    "\n",
    "pkl.dump(model,open('Model.pkl', 'wb'))"
   ]
  },
  {
   "cell_type": "code",
   "execution_count": null,
   "metadata": {
    "collapsed": false
   },
   "outputs": [],
   "source": []
  }
 ],
 "metadata": {
  "kernelspec": {
   "display_name": "Python 3",
   "language": "python",
   "name": "python3"
  },
  "language_info": {
   "codemirror_mode": {
    "name": "ipython",
    "version": 3
   },
   "file_extension": ".py",
   "mimetype": "text/x-python",
   "name": "python",
   "nbconvert_exporter": "python",
   "pygments_lexer": "ipython3",
   "version": "3.10.2"
  },
  "orig_nbformat": 4
 },
 "nbformat": 4,
 "nbformat_minor": 2
}
