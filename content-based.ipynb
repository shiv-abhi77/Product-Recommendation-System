{
 "cells": [
  {
   "cell_type": "code",
   "execution_count": 1,
   "metadata": {
    "ExecuteTime": {
     "end_time": "2023-08-19T18:33:36.844064300Z",
     "start_time": "2023-08-19T18:33:34.111878600Z"
    }
   },
   "outputs": [],
   "source": [
    "import pandas as pd\n",
    "import sklearn\n",
    "import nltk"
   ]
  },
  {
   "cell_type": "code",
   "execution_count": 2,
   "metadata": {
    "ExecuteTime": {
     "end_time": "2023-08-19T18:33:37.009517200Z",
     "start_time": "2023-08-19T18:33:36.862566700Z"
    }
   },
   "outputs": [
    {
     "data": {
      "text/html": [
       "<div>\n",
       "<style scoped>\n",
       "    .dataframe tbody tr th:only-of-type {\n",
       "        vertical-align: middle;\n",
       "    }\n",
       "\n",
       "    .dataframe tbody tr th {\n",
       "        vertical-align: top;\n",
       "    }\n",
       "\n",
       "    .dataframe thead th {\n",
       "        text-align: right;\n",
       "    }\n",
       "</style>\n",
       "<table border=\"1\" class=\"dataframe\">\n",
       "  <thead>\n",
       "    <tr style=\"text-align: right;\">\n",
       "      <th></th>\n",
       "      <th>product_name</th>\n",
       "      <th>product_category_tree</th>\n",
       "      <th>discounted_price</th>\n",
       "      <th>image</th>\n",
       "      <th>desc</th>\n",
       "      <th>show</th>\n",
       "    </tr>\n",
       "    <tr>\n",
       "      <th>uniq_id</th>\n",
       "      <th></th>\n",
       "      <th></th>\n",
       "      <th></th>\n",
       "      <th></th>\n",
       "      <th></th>\n",
       "      <th></th>\n",
       "    </tr>\n",
       "  </thead>\n",
       "  <tbody>\n",
       "    <tr>\n",
       "      <th>c2d766ca982eca8304150849735ffef9</th>\n",
       "      <td>Alisha Solid Women's Cycling Shorts</td>\n",
       "      <td>Clothing  Women's Clothing  Lingerie, Sleep &amp; ...</td>\n",
       "      <td>379.0</td>\n",
       "      <td>[\"http://img5a.flixcart.com/image/short/u/4/a/...</td>\n",
       "      <td>alisha solid womens cycling shorts alisha pa...</td>\n",
       "      <td>True</td>\n",
       "    </tr>\n",
       "    <tr>\n",
       "      <th>7f7036a6d550aaa89d34c77bd39a5e48</th>\n",
       "      <td>FabHomeDecor Fabric Double Sofa Bed</td>\n",
       "      <td>Furniture  Living Room Furniture  Sofa Beds &amp; ...</td>\n",
       "      <td>22646.0</td>\n",
       "      <td>[\"http://img6a.flixcart.com/image/sofa-bed/j/f...</td>\n",
       "      <td>fabhomedecor fabric double sofa bed fabhomed...</td>\n",
       "      <td>True</td>\n",
       "    </tr>\n",
       "    <tr>\n",
       "      <th>f449ec65dcbc041b6ae5e6a32717d01b</th>\n",
       "      <td>AW Bellies</td>\n",
       "      <td>Footwear  Women's Footwear  Ballerinas  AW Bel...</td>\n",
       "      <td>499.0</td>\n",
       "      <td>[\"http://img5a.flixcart.com/image/shoe/7/z/z/r...</td>\n",
       "      <td>aw bellies aw women casual red patentleather...</td>\n",
       "      <td>True</td>\n",
       "    </tr>\n",
       "    <tr>\n",
       "      <th>0973b37acd0c664e3de26e97e5571454</th>\n",
       "      <td>Alisha Solid Women's Cycling Shorts</td>\n",
       "      <td>Clothing  Women's Clothing  Lingerie, Sleep &amp; ...</td>\n",
       "      <td>267.0</td>\n",
       "      <td>[\"http://img5a.flixcart.com/image/short/6/2/h/...</td>\n",
       "      <td>alisha solid womens cycling shorts alisha pa...</td>\n",
       "      <td>True</td>\n",
       "    </tr>\n",
       "    <tr>\n",
       "      <th>bc940ea42ee6bef5ac7cea3fb5cfbee7</th>\n",
       "      <td>Sicons All Purpose Arnica Dog Shampoo</td>\n",
       "      <td>Pet Supplies  Grooming  Skin &amp; Coat Care  Sham...</td>\n",
       "      <td>210.0</td>\n",
       "      <td>[\"http://img5a.flixcart.com/image/pet-shampoo/...</td>\n",
       "      <td>sicons all purpose arnica dog shampoo sicons...</td>\n",
       "      <td>True</td>\n",
       "    </tr>\n",
       "    <tr>\n",
       "      <th>...</th>\n",
       "      <td>...</td>\n",
       "      <td>...</td>\n",
       "      <td>...</td>\n",
       "      <td>...</td>\n",
       "      <td>...</td>\n",
       "      <td>...</td>\n",
       "    </tr>\n",
       "    <tr>\n",
       "      <th>0</th>\n",
       "      <td>0</td>\n",
       "      <td>Footwear Clothes ElectronicGadgets</td>\n",
       "      <td>712.0</td>\n",
       "      <td>0</td>\n",
       "      <td>Earphone  Moisturizer  Laptop stand  Keyboard ...</td>\n",
       "      <td>False</td>\n",
       "    </tr>\n",
       "    <tr>\n",
       "      <th>0</th>\n",
       "      <td>0</td>\n",
       "      <td>Footwear Clothes ElectronicGadgets FashionAcce...</td>\n",
       "      <td>740.0</td>\n",
       "      <td>0</td>\n",
       "      <td>Specs  Ether to usb converter  Analog watch  F...</td>\n",
       "      <td>False</td>\n",
       "    </tr>\n",
       "    <tr>\n",
       "      <th>0</th>\n",
       "      <td>0</td>\n",
       "      <td>Footwear Clothes ElectronicGadgets HomeKitchen...</td>\n",
       "      <td>4350.0</td>\n",
       "      <td>0</td>\n",
       "      <td>Puma shoes Laptop stand Mobile phone Hoodie St...</td>\n",
       "      <td>False</td>\n",
       "    </tr>\n",
       "    <tr>\n",
       "      <th>0</th>\n",
       "      <td>0</td>\n",
       "      <td>ElectronicGadgets Mobile</td>\n",
       "      <td>32800.0</td>\n",
       "      <td>0</td>\n",
       "      <td>Mobile  TV AC Headphones</td>\n",
       "      <td>False</td>\n",
       "    </tr>\n",
       "    <tr>\n",
       "      <th>0</th>\n",
       "      <td>0</td>\n",
       "      <td>Footwear Clothes Mobile</td>\n",
       "      <td>4100.0</td>\n",
       "      <td>0</td>\n",
       "      <td>Puma motosport edition shoes Lenskart ka chasm...</td>\n",
       "      <td>False</td>\n",
       "    </tr>\n",
       "  </tbody>\n",
       "</table>\n",
       "<p>14277 rows × 6 columns</p>\n",
       "</div>"
      ],
      "text/plain": [
       "                                                            product_name  \\\n",
       "uniq_id                                                                    \n",
       "c2d766ca982eca8304150849735ffef9     Alisha Solid Women's Cycling Shorts   \n",
       "7f7036a6d550aaa89d34c77bd39a5e48     FabHomeDecor Fabric Double Sofa Bed   \n",
       "f449ec65dcbc041b6ae5e6a32717d01b                              AW Bellies   \n",
       "0973b37acd0c664e3de26e97e5571454     Alisha Solid Women's Cycling Shorts   \n",
       "bc940ea42ee6bef5ac7cea3fb5cfbee7   Sicons All Purpose Arnica Dog Shampoo   \n",
       "...                                                                  ...   \n",
       "0                                                                      0   \n",
       "0                                                                      0   \n",
       "0                                                                      0   \n",
       "0                                                                      0   \n",
       "0                                                                      0   \n",
       "\n",
       "                                                              product_category_tree  \\\n",
       "uniq_id                                                                               \n",
       "c2d766ca982eca8304150849735ffef9  Clothing  Women's Clothing  Lingerie, Sleep & ...   \n",
       "7f7036a6d550aaa89d34c77bd39a5e48  Furniture  Living Room Furniture  Sofa Beds & ...   \n",
       "f449ec65dcbc041b6ae5e6a32717d01b  Footwear  Women's Footwear  Ballerinas  AW Bel...   \n",
       "0973b37acd0c664e3de26e97e5571454  Clothing  Women's Clothing  Lingerie, Sleep & ...   \n",
       "bc940ea42ee6bef5ac7cea3fb5cfbee7  Pet Supplies  Grooming  Skin & Coat Care  Sham...   \n",
       "...                                                                             ...   \n",
       "0                                                Footwear Clothes ElectronicGadgets   \n",
       "0                                 Footwear Clothes ElectronicGadgets FashionAcce...   \n",
       "0                                 Footwear Clothes ElectronicGadgets HomeKitchen...   \n",
       "0                                                          ElectronicGadgets Mobile   \n",
       "0                                                           Footwear Clothes Mobile   \n",
       "\n",
       "                                  discounted_price  \\\n",
       "uniq_id                                              \n",
       "c2d766ca982eca8304150849735ffef9             379.0   \n",
       "7f7036a6d550aaa89d34c77bd39a5e48           22646.0   \n",
       "f449ec65dcbc041b6ae5e6a32717d01b             499.0   \n",
       "0973b37acd0c664e3de26e97e5571454             267.0   \n",
       "bc940ea42ee6bef5ac7cea3fb5cfbee7             210.0   \n",
       "...                                            ...   \n",
       "0                                            712.0   \n",
       "0                                            740.0   \n",
       "0                                           4350.0   \n",
       "0                                          32800.0   \n",
       "0                                           4100.0   \n",
       "\n",
       "                                                                              image  \\\n",
       "uniq_id                                                                               \n",
       "c2d766ca982eca8304150849735ffef9  [\"http://img5a.flixcart.com/image/short/u/4/a/...   \n",
       "7f7036a6d550aaa89d34c77bd39a5e48  [\"http://img6a.flixcart.com/image/sofa-bed/j/f...   \n",
       "f449ec65dcbc041b6ae5e6a32717d01b  [\"http://img5a.flixcart.com/image/shoe/7/z/z/r...   \n",
       "0973b37acd0c664e3de26e97e5571454  [\"http://img5a.flixcart.com/image/short/6/2/h/...   \n",
       "bc940ea42ee6bef5ac7cea3fb5cfbee7  [\"http://img5a.flixcart.com/image/pet-shampoo/...   \n",
       "...                                                                             ...   \n",
       "0                                                                                 0   \n",
       "0                                                                                 0   \n",
       "0                                                                                 0   \n",
       "0                                                                                 0   \n",
       "0                                                                                 0   \n",
       "\n",
       "                                                                               desc  \\\n",
       "uniq_id                                                                               \n",
       "c2d766ca982eca8304150849735ffef9    alisha solid womens cycling shorts alisha pa...   \n",
       "7f7036a6d550aaa89d34c77bd39a5e48    fabhomedecor fabric double sofa bed fabhomed...   \n",
       "f449ec65dcbc041b6ae5e6a32717d01b    aw bellies aw women casual red patentleather...   \n",
       "0973b37acd0c664e3de26e97e5571454    alisha solid womens cycling shorts alisha pa...   \n",
       "bc940ea42ee6bef5ac7cea3fb5cfbee7    sicons all purpose arnica dog shampoo sicons...   \n",
       "...                                                                             ...   \n",
       "0                                 Earphone  Moisturizer  Laptop stand  Keyboard ...   \n",
       "0                                 Specs  Ether to usb converter  Analog watch  F...   \n",
       "0                                 Puma shoes Laptop stand Mobile phone Hoodie St...   \n",
       "0                                                         Mobile  TV AC Headphones    \n",
       "0                                 Puma motosport edition shoes Lenskart ka chasm...   \n",
       "\n",
       "                                   show  \n",
       "uniq_id                                  \n",
       "c2d766ca982eca8304150849735ffef9   True  \n",
       "7f7036a6d550aaa89d34c77bd39a5e48   True  \n",
       "f449ec65dcbc041b6ae5e6a32717d01b   True  \n",
       "0973b37acd0c664e3de26e97e5571454   True  \n",
       "bc940ea42ee6bef5ac7cea3fb5cfbee7   True  \n",
       "...                                 ...  \n",
       "0                                 False  \n",
       "0                                 False  \n",
       "0                                 False  \n",
       "0                                 False  \n",
       "0                                 False  \n",
       "\n",
       "[14277 rows x 6 columns]"
      ]
     },
     "execution_count": 2,
     "metadata": {},
     "output_type": "execute_result"
    }
   ],
   "source": [
    "df = pd.read_csv(\"FlipDatasetProcessed.csv\", index_col=0)\n",
    "df"
   ]
  },
  {
   "cell_type": "code",
   "execution_count": 3,
   "metadata": {
    "ExecuteTime": {
     "end_time": "2023-08-19T18:33:37.009517200Z",
     "start_time": "2023-08-19T18:33:36.995867400Z"
    }
   },
   "outputs": [],
   "source": [
    "from sklearn.feature_extraction.text import CountVectorizer\n",
    "from sklearn.metrics.pairwise import cosine_similarity\n",
    "cv = CountVectorizer(max_features=5000,stop_words='english')\n",
    "\n",
    "def getSimiliarity(column):\n",
    "    vector = cv.fit_transform(column).toarray()\n",
    "    return cosine_similarity(vector)\n",
    "\n",
    "\n"
   ]
  },
  {
   "cell_type": "code",
   "execution_count": 4,
   "metadata": {
    "ExecuteTime": {
     "end_time": "2023-08-19T18:34:20.507872500Z",
     "start_time": "2023-08-19T18:33:36.999809900Z"
    }
   },
   "outputs": [
    {
     "data": {
      "text/plain": [
       "array([[1.        , 0.        , 0.09707253, ..., 0.        , 0.        ,\n",
       "        0.        ],\n",
       "       [0.        , 1.        , 0.        , ..., 0.        , 0.        ,\n",
       "        0.        ],\n",
       "       [0.09707253, 0.        , 1.        , ..., 0.22135944, 0.        ,\n",
       "        0.2857738 ],\n",
       "       ...,\n",
       "       [0.        , 0.        , 0.22135944, ..., 1.        , 0.27135944,\n",
       "        0.4431281 ],\n",
       "       [0.        , 0.        , 0.        , ..., 0.27135944, 1.        ,\n",
       "        0.2857738 ],\n",
       "       [0.        , 0.        , 0.2857738 , ..., 0.4431281 , 0.2857738 ,\n",
       "        1.        ]])"
      ]
     },
     "execution_count": 4,
     "metadata": {},
     "output_type": "execute_result"
    }
   ],
   "source": [
    "WEIGHT = 0.7\n",
    "similarity = (1 - WEIGHT) * getSimiliarity(df.desc) + WEIGHT * getSimiliarity(df.product_category_tree)\n",
    "similarity  "
   ]
  },
  {
   "cell_type": "code",
   "execution_count": 5,
   "metadata": {
    "ExecuteTime": {
     "end_time": "2023-08-19T18:34:20.560478300Z",
     "start_time": "2023-08-19T18:34:20.469550300Z"
    }
   },
   "outputs": [],
   "source": [
    "def getSimilar(index):\n",
    "    similar = sorted(list(enumerate(similarity[index])),reverse=True,key = lambda x: x[1])\n",
    "    for ind, score in similar[:10]:\n",
    "        print(f\"{df.iloc[ind].product_name} {score}\")"
   ]
  },
  {
   "cell_type": "code",
   "execution_count": 6,
   "metadata": {
    "ExecuteTime": {
     "end_time": "2023-08-19T18:34:20.725919300Z",
     "start_time": "2023-08-19T18:34:20.537859900Z"
    }
   },
   "outputs": [
    {
     "name": "stdout",
     "output_type": "stream",
     "text": [
      " Eternal Gandhi Super Series Crystal Paper Weights  with Silver Finish 1.0\n",
      " Reiki Crystal Products Showpiece  -  1.5cm 0.22146440216334293\n",
      " Reiki Crystal Products Showpiece  -  8cm 0.20584182734170958\n",
      " Reiki Crystal Products Showpiece  -  6cm 0.1906990202878539\n",
      " Super Hornet Fighter Aircraft Poster Paper Print 0.19043010033166724\n",
      " The Crystal Jewel Chakra Cabochons with hand carved Chakra symbols Showpiece  -  3cm 0.18990867837581565\n",
      " GrandShop 444inch Multicolor Rice Lights 0.1883841995643376\n",
      " The Crystal Jewel Chakra colour Bonded Pyramid Showpiece  -  4cm 0.18832744942350038\n",
      " Tangerine Crystal Brooch 0.18503403416149145\n",
      " Tangerine Crystal Brooch 0.18503403416149145\n"
     ]
    }
   ],
   "source": [
    "getSimilar(5)"
   ]
  },
  {
   "cell_type": "code",
   "execution_count": 6,
   "metadata": {
    "ExecuteTime": {
     "end_time": "2023-08-19T18:34:20.725919300Z",
     "start_time": "2023-08-19T18:34:20.601735900Z"
    }
   },
   "outputs": [],
   "source": []
  }
 ],
 "metadata": {
  "kernelspec": {
   "display_name": "Python 3",
   "language": "python",
   "name": "python3"
  },
  "language_info": {
   "codemirror_mode": {
    "name": "ipython",
    "version": 3
   },
   "file_extension": ".py",
   "mimetype": "text/x-python",
   "name": "python",
   "nbconvert_exporter": "python",
   "pygments_lexer": "ipython3",
   "version": "3.10.12"
  },
  "orig_nbformat": 4
 },
 "nbformat": 4,
 "nbformat_minor": 2
}
